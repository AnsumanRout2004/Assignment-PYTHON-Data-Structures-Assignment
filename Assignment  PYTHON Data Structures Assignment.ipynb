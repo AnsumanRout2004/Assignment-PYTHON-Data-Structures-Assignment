{
 "cells": [
  {
   "cell_type": "code",
   "execution_count": null,
   "id": "ebdb9bb3-8c8a-4301-bb45-8d1c56acef62",
   "metadata": {},
   "outputs": [],
   "source": [
    "Q1. How do you comment code in Python? What are the different types of comments?"
   ]
  },
  {
   "cell_type": "code",
   "execution_count": null,
   "id": "c6b0f08a-3148-4aa7-a0a1-f783d02b26cd",
   "metadata": {},
   "outputs": [],
   "source": [
    "In Python, comments are used to make code more readable and understandable. Comments are ignored by the Python interpreter and do not affect program execution.\n",
    "\n",
    "Types of Comments in Python\n",
    "1. Single-line Comments (#)\n",
    "Start with the # symbol.\n",
    "Used to describe a single line of code.\n",
    "Example:"
   ]
  },
  {
   "cell_type": "code",
   "execution_count": null,
   "id": "5163a446-4fd3-4ca0-bae2-661fe3b3338d",
   "metadata": {},
   "outputs": [],
   "source": [
    "# This is a single-line comment\n",
    "print(\"Hello, World!\")  # This prints a message\n"
   ]
  },
  {
   "cell_type": "code",
   "execution_count": null,
   "id": "cc95e427-db0a-48bc-ae6a-7ac1c56b7dd8",
   "metadata": {},
   "outputs": [],
   "source": [
    "2. Multi-line Comments (# multiple times)\n",
    "Python does not have a built-in syntax for multi-line comments.\n",
    "You can use multiple # symbols to write comments on multiple lines.\n",
    "Example:"
   ]
  },
  {
   "cell_type": "code",
   "execution_count": null,
   "id": "62e1cc0a-6a9d-4ad9-acbf-d047f4a195d8",
   "metadata": {},
   "outputs": [],
   "source": [
    "# This is a multi-line comment\n",
    "# that spans multiple lines\n",
    "print(\"Python comments example\")\n"
   ]
  },
  {
   "cell_type": "code",
   "execution_count": null,
   "id": "716f92f7-eb40-4f52-b44f-a3b6ce2dd215",
   "metadata": {},
   "outputs": [],
   "source": [
    "3. Docstrings (\"\"\" \"\"\" or ''' ''')\n",
    "Used to document modules, classes, functions, or methods.\n",
    "Written inside triple double quotes \"\"\" \"\"\" or triple single quotes ''' '''.\n",
    "Unlike regular comments, docstrings can be accessed at runtime using the __doc__ attribute.\n",
    "Example:"
   ]
  },
  {
   "cell_type": "code",
   "execution_count": null,
   "id": "5522152e-8c84-46ea-899f-e77cc5e36387",
   "metadata": {},
   "outputs": [],
   "source": [
    "def greet():\n",
    "    \"\"\"This function prints a greeting message.\"\"\"\n",
    "    print(\"Hello, Python!\")\n",
    "\n",
    "greet()\n",
    "print(greet.__doc__)  # Output: This function prints a greeting message.\n"
   ]
  },
  {
   "cell_type": "code",
   "execution_count": null,
   "id": "26250ef4-9d2d-46d4-9b4e-2655a1f82c2e",
   "metadata": {},
   "outputs": [],
   "source": []
  },
  {
   "cell_type": "code",
   "execution_count": null,
   "id": "b10c729a-e9fa-4ff2-9c9e-b51af58b4593",
   "metadata": {},
   "outputs": [],
   "source": []
  },
  {
   "cell_type": "code",
   "execution_count": null,
   "id": "d0188cc6-2a7e-4cdb-8d0a-756bfa3f8f04",
   "metadata": {},
   "outputs": [],
   "source": []
  },
  {
   "cell_type": "code",
   "execution_count": null,
   "id": "8e8ab99e-c3d9-4591-8f48-f524de720597",
   "metadata": {},
   "outputs": [],
   "source": []
  },
  {
   "cell_type": "code",
   "execution_count": null,
   "id": "f5c0a007-a4c2-4c19-a759-6f7e1bc7aee5",
   "metadata": {},
   "outputs": [],
   "source": []
  },
  {
   "cell_type": "code",
   "execution_count": null,
   "id": "18ff23b2-fcc7-4f42-8d69-f905c1fcbf08",
   "metadata": {},
   "outputs": [],
   "source": []
  },
  {
   "cell_type": "code",
   "execution_count": null,
   "id": "21ae311a-0f6e-4162-b35b-dbecf1b3c370",
   "metadata": {},
   "outputs": [],
   "source": []
  },
  {
   "cell_type": "code",
   "execution_count": null,
   "id": "6ca464f9-90f8-494e-a214-50a09cc326da",
   "metadata": {},
   "outputs": [],
   "source": []
  },
  {
   "cell_type": "code",
   "execution_count": null,
   "id": "0cdf3087-9942-4ea0-a4aa-c31094fd29d7",
   "metadata": {},
   "outputs": [],
   "source": []
  },
  {
   "cell_type": "code",
   "execution_count": null,
   "id": "e6474989-f32a-40a2-994b-b683059b89d9",
   "metadata": {},
   "outputs": [],
   "source": []
  },
  {
   "cell_type": "code",
   "execution_count": null,
   "id": "4df7b702-c330-4cc4-9dbe-38f59d97bfc4",
   "metadata": {},
   "outputs": [],
   "source": []
  }
 ],
 "metadata": {
  "kernelspec": {
   "display_name": "Python [conda env:base] *",
   "language": "python",
   "name": "conda-base-py"
  },
  "language_info": {
   "codemirror_mode": {
    "name": "ipython",
    "version": 3
   },
   "file_extension": ".py",
   "mimetype": "text/x-python",
   "name": "python",
   "nbconvert_exporter": "python",
   "pygments_lexer": "ipython3",
   "version": "3.11.5"
  }
 },
 "nbformat": 4,
 "nbformat_minor": 5
}
